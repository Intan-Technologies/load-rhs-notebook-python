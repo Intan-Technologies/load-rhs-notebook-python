{
 "cells": [
  {
   "cell_type": "markdown",
   "id": "f9624fa7",
   "metadata": {},
   "source": [
    "# Load Data from an Intan RHS file.\n",
    "### Header information (and saved data, if present) will be stored in the *result* variable. You'll also be able to specify a channel's name to plot its recorded data as an example of accessing data from *result*."
   ]
  },
  {
   "cell_type": "code",
   "execution_count": 1,
   "id": "b2dc4c21",
   "metadata": {},
   "outputs": [],
   "source": [
    "# Load the background Python functions that allow for data loading and plotting\n",
    "%run importrhsutilities.py"
   ]
  },
  {
   "cell_type": "markdown",
   "id": "bbdc173d",
   "metadata": {},
   "source": [
    "### Name of file to load. To load a different file, move it to the same directory as this notebook, and change the following 'filename' variable to point the name of your file."
   ]
  },
  {
   "cell_type": "code",
   "execution_count": 2,
   "id": "20221cb3",
   "metadata": {},
   "outputs": [
    {
     "name": "stdout",
     "output_type": "stream",
     "text": [
      "\n",
      "Reading Intan Technologies RHS2000 Data File, Version 3.0\n",
      "\n",
      "Found 64 amplifier channels.\n",
      "Found 1 board ADC channel.\n",
      "Found 0 board DAC channels.\n",
      "Found 1 board digital input channel.\n",
      "Found 0 board digital output channels.\n",
      "\n",
      "50176 bytes per data block\n",
      "File contains 1.425 seconds of data.  Amplifiers were sampled at 30.00 kS/s.\n",
      "\n",
      "Allocating memory for data...\n",
      "Reading data from file...\n",
      "10% done...\n",
      "20% done...\n",
      "30% done...\n",
      "40% done...\n",
      "50% done...\n",
      "60% done...\n",
      "70% done...\n",
      "80% done...\n",
      "90% done...\n",
      "100% done...\n",
      "Parsing data...\n",
      "No missing timestamps in data.\n",
      "Done!  Elapsed time: 0.2 seconds\n"
     ]
    }
   ],
   "source": [
    "# filename = 'sampledata.rhs' # Change this variable to load a different data file\n",
    "filename = 'sampledata.rhs'\n",
    "result, data_present = load_file(filename)"
   ]
  },
  {
   "cell_type": "markdown",
   "id": "8437bd9b",
   "metadata": {},
   "source": [
    "### Once a file is loaded, all of its information is stored in the *result* variable. If further analysis of recorded data is desired, this is the variable that should be used.\n",
    "\n",
    "### As an example, the plot_channel function (code in *importintanutilitiespy*) accesses *result* to plot a specific channel."
   ]
  },
  {
   "cell_type": "code",
   "execution_count": 3,
   "id": "e800d48e",
   "metadata": {},
   "outputs": [
    {
     "name": "stdout",
     "output_type": "stream",
     "text": [
      "A-000\n",
      "A-001\n",
      "A-002\n",
      "A-003\n",
      "A-004\n",
      "A-005\n",
      "A-006\n",
      "A-007\n",
      "A-008\n",
      "A-009\n",
      "A-010\n",
      "A-011\n",
      "A-012\n",
      "A-013\n",
      "A-014\n",
      "A-015\n",
      "A-016\n",
      "A-017\n",
      "A-018\n",
      "A-019\n",
      "A-020\n",
      "A-021\n",
      "A-022\n",
      "A-023\n",
      "A-024\n",
      "A-025\n",
      "A-026\n",
      "A-027\n",
      "A-028\n",
      "A-029\n",
      "A-030\n",
      "A-031\n",
      "B-000\n",
      "B-001\n",
      "B-002\n",
      "B-003\n",
      "B-004\n",
      "B-005\n",
      "B-006\n",
      "B-007\n",
      "B-008\n",
      "B-009\n",
      "B-010\n",
      "B-011\n",
      "B-012\n",
      "B-013\n",
      "B-014\n",
      "B-015\n",
      "B-016\n",
      "B-017\n",
      "B-018\n",
      "B-019\n",
      "B-020\n",
      "B-021\n",
      "B-022\n",
      "B-023\n",
      "B-024\n",
      "B-025\n",
      "B-026\n",
      "B-027\n",
      "B-028\n",
      "B-029\n",
      "B-030\n",
      "B-031\n",
      "ANALOG-IN-1\n",
      "DIGITAL-IN-01\n"
     ]
    }
   ],
   "source": [
    "print_all_channel_names(result) # Uncomment this line and re-run cell to display names of all available channels"
   ]
  },
  {
   "cell_type": "code",
   "execution_count": 4,
   "id": "ea8ac105",
   "metadata": {},
   "outputs": [
    {
     "data": {
      "image/png": "[encoded data removed]",
      "text/plain": [
       "<Figure size 432x288 with 1 Axes>"
      ]
     },
     "metadata": {
      "needs_background": "light"
     },
     "output_type": "display_data"
    }
   ],
   "source": [
    "channel_name = 'DIGITAL-IN-01' # Change this variable and re-run cell to plot a different channel\n",
    "\n",
    "%matplotlib inline\n",
    "\n",
    "if data_present:\n",
    "    plot_channel(channel_name, result)\n",
    "    \n",
    "else:\n",
    "    print('Plotting not possible; no data in this file')"
   ]
  },
  {
   "cell_type": "code",
   "execution_count": null,
   "id": "60d0b723",
   "metadata": {},
   "outputs": [],
   "source": []
  }
 ],
 "metadata": {
  "kernelspec": {
   "display_name": "Python 3",
   "language": "python",
   "name": "python3"
  },
  "language_info": {
   "codemirror_mode": {
    "name": "ipython",
    "version": 3
   },
   "file_extension": ".py",
   "mimetype": "text/x-python",
   "name": "python",
   "nbconvert_exporter": "python",
   "pygments_lexer": "ipython3",
   "version": "3.8.10"
  }
 },
 "nbformat": 4,
 "nbformat_minor": 5
}
